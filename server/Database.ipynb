{
 "cells": [
  {
   "cell_type": "code",
   "execution_count": 1,
   "id": "f14d8e8c",
   "metadata": {},
   "outputs": [],
   "source": [
    "import pandas as pd\n",
    "import sqlite3"
   ]
  },
  {
   "cell_type": "code",
   "execution_count": 2,
   "id": "c483500c",
   "metadata": {},
   "outputs": [
    {
     "name": "stdout",
     "output_type": "stream",
     "text": [
      "0\n"
     ]
    }
   ],
   "source": [
    "connection = sqlite3.connect(\"pokemon.db\")\n",
    "print(connection.total_changes)\n"
   ]
  },
  {
   "cell_type": "code",
   "execution_count": 3,
   "id": "beefad75",
   "metadata": {},
   "outputs": [
    {
     "name": "stdout",
     "output_type": "stream",
     "text": [
      "    Pokédex no.      Name                      URL              Type   HP  \\\n",
      "0          #001   turtwig   /pokedex-swsh/turtwig/           [Grass]   55   \n",
      "1          #002    grotle    /pokedex-swsh/grotle/           [Grass]   75   \n",
      "2          #003  torterra  /pokedex-swsh/torterra/   [Grass, Ground]   95   \n",
      "3          #004  chimchar  /pokedex-swsh/chimchar/            [Fire]   44   \n",
      "4          #005  monferno  /pokedex-swsh/monferno/  [Fire, Fighting]   64   \n",
      "..          ...       ...                      ...               ...  ...   \n",
      "146        #147   mesprit   /pokedex-swsh/mesprit/         [Psychic]   80   \n",
      "147        #148     azelf     /pokedex-swsh/azelf/         [Psychic]   75   \n",
      "148        #149    dialga    /pokedex-swsh/dialga/   [Steel, Dragon]  100   \n",
      "149        #150    palkia    /pokedex-swsh/palkia/   [Water, Dragon]   90   \n",
      "150        #151   manaphy   /pokedex-swsh/manaphy/           [Water]  100   \n",
      "\n",
      "     Attack  Defense  Special Attack  Special Defense  Speed  ...  Ground  \\\n",
      "0        68       64              45               55     31  ...     0.5   \n",
      "1        89       85              55               65     36  ...     0.5   \n",
      "2       109      105              75               85     56  ...     0.5   \n",
      "3        58       44              58               44     61  ...     2.0   \n",
      "4        78       52              78               52     81  ...     2.0   \n",
      "..      ...      ...             ...              ...    ...  ...     ...   \n",
      "146     105      105             105              105     80  ...     1.0   \n",
      "147     125       70             125               70    115  ...     1.0   \n",
      "148     100      120             150              120     90  ...     2.0   \n",
      "149     100      100             150              120    120  ...     1.0   \n",
      "150     100      100             100              100    100  ...     1.0   \n",
      "\n",
      "    Rock Psychic  Ice   Bug Ghost Steel  Dragon  Dark  Fairy  \n",
      "0    1.0     1.0  2.0  2.00   1.0   1.0     1.0   1.0    1.0  \n",
      "1    1.0     1.0  2.0  2.00   1.0   1.0     1.0   1.0    1.0  \n",
      "2    0.5     1.0  4.0  2.00   1.0   1.0     1.0   1.0    1.0  \n",
      "3    2.0     1.0  0.5  0.50   1.0   0.5     1.0   1.0    0.5  \n",
      "4    1.0     2.0  0.5  0.25   1.0   0.5     1.0   0.5    1.0  \n",
      "..   ...     ...  ...   ...   ...   ...     ...   ...    ...  \n",
      "146  1.0     0.5  1.0  2.00   2.0   1.0     1.0   2.0    1.0  \n",
      "147  1.0     0.5  1.0  2.00   2.0   1.0     1.0   2.0    1.0  \n",
      "148  0.5     0.5  1.0  0.50   1.0   0.5     1.0   1.0    1.0  \n",
      "149  1.0     1.0  1.0  1.00   1.0   0.5     2.0   1.0    2.0  \n",
      "150  1.0     1.0  0.5  1.00   1.0   0.5     1.0   1.0    1.0  \n",
      "\n",
      "[151 rows x 35 columns]\n"
     ]
    }
   ],
   "source": [
    "df = pd.read_json(r'.\\pokemon.json')\n",
    "print(df)"
   ]
  },
  {
   "cell_type": "code",
   "execution_count": 4,
   "id": "1f11545b",
   "metadata": {},
   "outputs": [
    {
     "data": {
      "text/plain": [
       "<sqlite3.Cursor at 0x174b53bea40>"
      ]
     },
     "execution_count": 4,
     "metadata": {},
     "output_type": "execute_result"
    }
   ],
   "source": [
    "cursor = connection.cursor()\n",
    "cursor.execute(\"CREATE TABLE IF NOT EXISTS pokemon (id integer PRIMARY KEY, name TEXT, primary_type TEXT, secondary_type TEXT, ability TEXT, hidden_ability TEXT, hp INTEGER, attack INTEGER, defense INTEGER, sp_atk INTEGER, sp_def INTEGER, speed INTEGER, total INTEGER, strongest_stat TEXT, normal DOUBLE, fire DOUBLE, water DOUBLE, grass DOUBLE, flying DOUBLE, fighting DOUBLE, poison DOUBLE, electric DOUBLE, ground DOUBLE, rock DOUBLE, psychic DOUBLE, ice DOUBLE, bug DOUBLE, ghost DOUBLE, steel DOUBLE, dragon DOUBLE, dark DOUBLE, fairy DOUBLE)\")\n"
   ]
  },
  {
   "cell_type": "code",
   "execution_count": 14,
   "id": "b7007588",
   "metadata": {},
   "outputs": [],
   "source": []
  },
  {
   "cell_type": "code",
   "execution_count": 5,
   "id": "a61ef9e8",
   "metadata": {},
   "outputs": [],
   "source": [
    "for index, row in df.iterrows():\n",
    "    sql = 'INSERT INTO pokemon(id,name,primary_type,secondary_type, ability, hidden_ability,hp,attack,defense,sp_atk,sp_def,speed,total,strongest_stat,normal,fire,water,grass,flying,fighting, poison, electric, ground, rock, psychic , ice, bug, ghost, steel, dragon, dark, fairy) VALUES(?,?,?,?,?,?,?,?,?,?,?,?,?,?,?,?,?,?,?,?,?,?,?,?,?,?,?,?,?,?,?, ?)'\n",
    "    pkmn_id = index+1\n",
    "    name = str(row['Name'])\n",
    "    primary_type = str(row['Primary Type'])\n",
    "    secondary_type = str(row['Secondary Type'])\n",
    "    ability = str(row['Ability'])\n",
    "    hidden_ability = str(row['Hidden Ability'])\n",
    "    hp = int(row['HP'])\n",
    "    atk = int(row['Attack'])\n",
    "    defense = int(row['Defense'])\n",
    "    spatk = int(row['Special Attack'])\n",
    "    spdef = int(row['Special Defense'])\n",
    "    speed = int(row['Speed'])\n",
    "    total = int(row['Total'])\n",
    "    strongest_stat = str(row['Strongest Stat'])\n",
    "    normal = str(row['Normal'])\n",
    "    fire = str(row['Fire'])\n",
    "    water = str(row['Water'])\n",
    "    grass = str(row['Grass'])\n",
    "    flying = str(row['Flying'])\n",
    "    fighting = str(row['Fighting'])\n",
    "    poison = str(row['Poison'])\n",
    "    electric = str(row['Electric'])\n",
    "    ground = str(row['Ground'])\n",
    "    rock = str(row['Rock'])\n",
    "    psychic = str(row['Psychic'])\n",
    "    ice = str(row['Ice'])\n",
    "    bug = str(row['Bug'])\n",
    "    ghost = str(row['Ghost'])\n",
    "    steel = str(row['Steel'])\n",
    "    dragon = str(row['Dragon'])\n",
    "    dark = str(row['Dark'])\n",
    "    fairy = str(row['Fairy'])\n",
    "    \n",
    "    pokemon = (pkmn_id, name, primary_type, secondary_type, ability, hidden_ability, hp, atk, defense, spatk, spdef, speed, total, strongest_stat, normal, fire, water, grass, flying, fighting, poison, electric, ground, rock, psychic, ice, bug,ghost, steel, dragon, dark, fairy)\n",
    "    cursor.execute(sql, pokemon)\n",
    "    "
   ]
  },
  {
   "cell_type": "code",
   "execution_count": 7,
   "id": "c2326264",
   "metadata": {},
   "outputs": [],
   "source": [
    "#sql = 'INSERT INTO pokemon(id,name,type,hp,attack,defense,sp_atk,sp_def,speed) VALUES(?,?,?,?,?,?,?,?,?)'\n",
    "#pokemon = (1, 'Sprigatito', '[Grass]', 40, 61, 54, 45, 45, 65)"
   ]
  },
  {
   "cell_type": "code",
   "execution_count": 8,
   "id": "3053a7ee",
   "metadata": {},
   "outputs": [
    {
     "data": {
      "text/plain": [
       "<sqlite3.Cursor at 0x2512884ea40>"
      ]
     },
     "execution_count": 8,
     "metadata": {},
     "output_type": "execute_result"
    }
   ],
   "source": [
    "#cursor.execute(sql, pokemon)"
   ]
  },
  {
   "cell_type": "code",
   "execution_count": 6,
   "id": "ad2cdc1f",
   "metadata": {},
   "outputs": [
    {
     "name": "stdout",
     "output_type": "stream",
     "text": [
      "[('gyarados', 'Water', 95, 125, 79, 60, 100, 81, 1.0, 0.5, 0.5, 1.0, 1.0, 0.5, 1.0, 4.0, 0.0, 2.0, 1.0, 1.0, 0.5, 1.0, 0.5, 1.0, 1.0)]\n"
     ]
    }
   ],
   "source": [
    "target_name = \"gyarados\"\n",
    "rows = cursor.execute(\n",
    "    \"SELECT name, primary_type, hp, attack, defense, sp_atk, sp_def, speed, normal,fire,water,grass,flying,fighting, poison, electric, ground, rock, psychic , ice, bug, ghost, steel, dragon, dark FROM pokemon WHERE name = ?\",\n",
    "    (target_name,),\n",
    ").fetchall()\n",
    "print(rows)"
   ]
  },
  {
   "cell_type": "code",
   "execution_count": 7,
   "id": "c9ebbc70",
   "metadata": {},
   "outputs": [],
   "source": [
    "connection.commit()"
   ]
  },
  {
   "cell_type": "code",
   "execution_count": 8,
   "id": "2e806acc",
   "metadata": {},
   "outputs": [
    {
     "name": "stdout",
     "output_type": "stream",
     "text": [
      "[(6, 'infernape', 'Fire', 'Fighting', \"['blaze']\", 'iron fist', 76, 104, 71, 104, 71, 108, 534, 'Speed', 1.0, 0.5, 2.0, 0.5, 2.0, 1.0, 1.0, 1.0, 2.0, 1.0, 2.0, 0.5, 0.25, 1.0, 0.5, 1.0, 0.5, 1.0), (21, 'kadabra', 'Psychic', '', \"['synchronize', 'inner focus']\", 'magic guard', 40, 35, 30, 120, 70, 105, 400, 'Special Attack', 1.0, 1.0, 1.0, 1.0, 1.0, 0.5, 1.0, 1.0, 1.0, 1.0, 0.5, 1.0, 2.0, 2.0, 1.0, 1.0, 2.0, 1.0), (22, 'alakazam', 'Psychic', '', \"['synchronize', 'inner focus']\", 'magic guard', 55, 50, 45, 135, 95, 120, 500, 'Special Attack', 1.0, 1.0, 1.0, 1.0, 1.0, 0.5, 1.0, 1.0, 1.0, 1.0, 0.5, 1.0, 2.0, 2.0, 1.0, 1.0, 2.0, 1.0), (30, 'crobat', 'Poison', 'Flying', \"['inner focus']\", 'infiltrator', 85, 90, 80, 70, 80, 130, 535, 'Speed', 1.0, 1.0, 1.0, 0.25, 1.0, 0.25, 0.5, 2.0, 0.0, 2.0, 2.0, 2.0, 0.25, 1.0, 1.0, 1.0, 1.0, 0.5), (57, 'floatzel', 'Water', '', \"['swift swim']\", 'water veil', 85, 105, 55, 85, 50, 115, 495, 'Speed', 1.0, 0.5, 0.5, 2.0, 1.0, 1.0, 1.0, 2.0, 1.0, 1.0, 1.0, 0.5, 1.0, 1.0, 0.5, 1.0, 1.0, 1.0), (64, 'ambipom', 'Normal', '', \"['technician', 'pickup']\", 'skill link', 75, 100, 66, 60, 66, 115, 482, 'Speed', 1.0, 1.0, 1.0, 1.0, 1.0, 2.0, 1.0, 1.0, 1.0, 1.0, 1.0, 1.0, 1.0, 0.0, 1.0, 1.0, 1.0, 1.0), (68, 'lopunny', 'Normal', '', \"['cute charm', 'klutz']\", 'limber', 65, 76, 84, 54, 96, 105, 480, 'Speed', 1.0, 1.0, 1.0, 1.0, 1.0, 2.0, 1.0, 1.0, 1.0, 1.0, 1.0, 1.0, 1.0, 0.0, 1.0, 1.0, 1.0, 1.0), (71, 'gengar', 'Ghost', 'Poison', \"['cursed body']\", 'None', 60, 65, 60, 130, 75, 110, 500, 'Special Attack', 0.0, 1.0, 1.0, 0.5, 1.0, 0.0, 0.25, 1.0, 2.0, 1.0, 2.0, 1.0, 0.25, 2.0, 1.0, 1.0, 2.0, 0.5), (73, 'mismagius', 'Ghost', '', \"['levitate']\", 'None', 60, 60, 60, 105, 105, 105, 495, 'Special Attack', 0.0, 1.0, 1.0, 1.0, 1.0, 0.0, 0.5, 1.0, 1.0, 1.0, 1.0, 1.0, 0.5, 2.0, 1.0, 1.0, 2.0, 1.0), (77, 'purugly', 'Normal', '', \"['thick fat', 'own tempo']\", 'defiant', 71, 82, 64, 64, 59, 112, 452, 'Speed', 1.0, 1.0, 1.0, 1.0, 1.0, 2.0, 1.0, 1.0, 1.0, 1.0, 1.0, 1.0, 1.0, 0.0, 1.0, 1.0, 1.0, 1.0), (91, 'rapidash', 'Fire', '', \"['run away', 'flash fire']\", 'flame body', 65, 100, 70, 80, 80, 105, 500, 'Speed', 1.0, 0.5, 2.0, 0.5, 1.0, 1.0, 1.0, 1.0, 2.0, 2.0, 1.0, 0.5, 0.5, 1.0, 0.5, 1.0, 1.0, 0.5), (105, 'raichu', 'Electric', '', \"['static']\", 'lightning rod', 60, 90, 55, 90, 80, 110, 485, 'Speed', 1.0, 1.0, 1.0, 1.0, 0.5, 1.0, 1.0, 0.5, 2.0, 1.0, 1.0, 1.0, 1.0, 1.0, 0.5, 1.0, 1.0, 1.0), (111, 'garchomp', 'Dragon', 'Ground', \"['sand veil']\", 'rough skin', 108, 130, 95, 80, 85, 102, 600, 'Attack', 1.0, 0.5, 1.0, 1.0, 1.0, 1.0, 0.5, 0.0, 1.0, 0.5, 1.0, 4.0, 1.0, 1.0, 1.0, 2.0, 1.0, 2.0), (144, 'sneasel', 'Dark', 'Ice', \"['inner focus', 'keen eye']\", 'pickpocket', 55, 95, 55, 35, 75, 115, 430, 'Speed', 1.0, 2.0, 1.0, 1.0, 1.0, 4.0, 1.0, 1.0, 1.0, 2.0, 0.0, 0.5, 2.0, 0.5, 2.0, 1.0, 0.5, 2.0), (145, 'weavile', 'Dark', 'Ice', \"['pressure']\", 'pickpocket', 70, 120, 65, 45, 85, 125, 510, 'Speed', 1.0, 2.0, 1.0, 1.0, 1.0, 4.0, 1.0, 1.0, 1.0, 2.0, 0.0, 0.5, 2.0, 0.5, 2.0, 1.0, 0.5, 2.0), (148, 'azelf', 'Psychic', '', \"['levitate']\", 'None', 75, 125, 70, 125, 70, 115, 580, 'Attack', 1.0, 1.0, 1.0, 1.0, 1.0, 0.5, 1.0, 1.0, 1.0, 1.0, 0.5, 1.0, 2.0, 2.0, 1.0, 1.0, 2.0, 1.0), (150, 'palkia', 'Water', 'Dragon', \"['pressure']\", 'telepathy', 90, 100, 100, 150, 120, 120, 680, 'Special Attack', 1.0, 0.25, 0.25, 1.0, 1.0, 1.0, 1.0, 1.0, 1.0, 1.0, 1.0, 1.0, 1.0, 1.0, 0.5, 2.0, 1.0, 2.0)]\n"
     ]
    }
   ],
   "source": [
    "stat = 100\n",
    "rows = cursor.execute(\n",
    "    \"SELECT id,name,primary_type,secondary_type, ability, hidden_ability,hp,attack,defense,sp_atk,sp_def,speed,total,strongest_stat,normal,fire,water,grass,flying,fighting, poison, electric, ground, rock, psychic , ice, bug, ghost, steel, dragon, dark, fairy FROM pokemon WHERE speed > ?\",\n",
    "    (stat,),\n",
    ").fetchall()\n",
    "print(rows)"
   ]
  },
  {
   "cell_type": "code",
   "execution_count": 9,
   "id": "d3140d07",
   "metadata": {},
   "outputs": [
    {
     "name": "stdout",
     "output_type": "stream",
     "text": [
      "(6, 'infernape', 'Fire', 'Fighting', \"['blaze']\", 'iron fist', 76, 104, 71, 104, 71, 108, 534, 'Speed', 1.0, 0.5, 2.0, 0.5, 2.0, 1.0, 1.0, 1.0, 2.0, 1.0, 2.0, 0.5, 0.25, 1.0, 0.5, 1.0, 0.5, 1.0)\n",
      "(21, 'kadabra', 'Psychic', '', \"['synchronize', 'inner focus']\", 'magic guard', 40, 35, 30, 120, 70, 105, 400, 'Special Attack', 1.0, 1.0, 1.0, 1.0, 1.0, 0.5, 1.0, 1.0, 1.0, 1.0, 0.5, 1.0, 2.0, 2.0, 1.0, 1.0, 2.0, 1.0)\n",
      "(22, 'alakazam', 'Psychic', '', \"['synchronize', 'inner focus']\", 'magic guard', 55, 50, 45, 135, 95, 120, 500, 'Special Attack', 1.0, 1.0, 1.0, 1.0, 1.0, 0.5, 1.0, 1.0, 1.0, 1.0, 0.5, 1.0, 2.0, 2.0, 1.0, 1.0, 2.0, 1.0)\n",
      "(30, 'crobat', 'Poison', 'Flying', \"['inner focus']\", 'infiltrator', 85, 90, 80, 70, 80, 130, 535, 'Speed', 1.0, 1.0, 1.0, 0.25, 1.0, 0.25, 0.5, 2.0, 0.0, 2.0, 2.0, 2.0, 0.25, 1.0, 1.0, 1.0, 1.0, 0.5)\n",
      "(57, 'floatzel', 'Water', '', \"['swift swim']\", 'water veil', 85, 105, 55, 85, 50, 115, 495, 'Speed', 1.0, 0.5, 0.5, 2.0, 1.0, 1.0, 1.0, 2.0, 1.0, 1.0, 1.0, 0.5, 1.0, 1.0, 0.5, 1.0, 1.0, 1.0)\n",
      "(64, 'ambipom', 'Normal', '', \"['technician', 'pickup']\", 'skill link', 75, 100, 66, 60, 66, 115, 482, 'Speed', 1.0, 1.0, 1.0, 1.0, 1.0, 2.0, 1.0, 1.0, 1.0, 1.0, 1.0, 1.0, 1.0, 0.0, 1.0, 1.0, 1.0, 1.0)\n",
      "(68, 'lopunny', 'Normal', '', \"['cute charm', 'klutz']\", 'limber', 65, 76, 84, 54, 96, 105, 480, 'Speed', 1.0, 1.0, 1.0, 1.0, 1.0, 2.0, 1.0, 1.0, 1.0, 1.0, 1.0, 1.0, 1.0, 0.0, 1.0, 1.0, 1.0, 1.0)\n",
      "(71, 'gengar', 'Ghost', 'Poison', \"['cursed body']\", 'None', 60, 65, 60, 130, 75, 110, 500, 'Special Attack', 0.0, 1.0, 1.0, 0.5, 1.0, 0.0, 0.25, 1.0, 2.0, 1.0, 2.0, 1.0, 0.25, 2.0, 1.0, 1.0, 2.0, 0.5)\n",
      "(73, 'mismagius', 'Ghost', '', \"['levitate']\", 'None', 60, 60, 60, 105, 105, 105, 495, 'Special Attack', 0.0, 1.0, 1.0, 1.0, 1.0, 0.0, 0.5, 1.0, 1.0, 1.0, 1.0, 1.0, 0.5, 2.0, 1.0, 1.0, 2.0, 1.0)\n",
      "(77, 'purugly', 'Normal', '', \"['thick fat', 'own tempo']\", 'defiant', 71, 82, 64, 64, 59, 112, 452, 'Speed', 1.0, 1.0, 1.0, 1.0, 1.0, 2.0, 1.0, 1.0, 1.0, 1.0, 1.0, 1.0, 1.0, 0.0, 1.0, 1.0, 1.0, 1.0)\n",
      "(91, 'rapidash', 'Fire', '', \"['run away', 'flash fire']\", 'flame body', 65, 100, 70, 80, 80, 105, 500, 'Speed', 1.0, 0.5, 2.0, 0.5, 1.0, 1.0, 1.0, 1.0, 2.0, 2.0, 1.0, 0.5, 0.5, 1.0, 0.5, 1.0, 1.0, 0.5)\n",
      "(105, 'raichu', 'Electric', '', \"['static']\", 'lightning rod', 60, 90, 55, 90, 80, 110, 485, 'Speed', 1.0, 1.0, 1.0, 1.0, 0.5, 1.0, 1.0, 0.5, 2.0, 1.0, 1.0, 1.0, 1.0, 1.0, 0.5, 1.0, 1.0, 1.0)\n",
      "(111, 'garchomp', 'Dragon', 'Ground', \"['sand veil']\", 'rough skin', 108, 130, 95, 80, 85, 102, 600, 'Attack', 1.0, 0.5, 1.0, 1.0, 1.0, 1.0, 0.5, 0.0, 1.0, 0.5, 1.0, 4.0, 1.0, 1.0, 1.0, 2.0, 1.0, 2.0)\n",
      "(144, 'sneasel', 'Dark', 'Ice', \"['inner focus', 'keen eye']\", 'pickpocket', 55, 95, 55, 35, 75, 115, 430, 'Speed', 1.0, 2.0, 1.0, 1.0, 1.0, 4.0, 1.0, 1.0, 1.0, 2.0, 0.0, 0.5, 2.0, 0.5, 2.0, 1.0, 0.5, 2.0)\n",
      "(145, 'weavile', 'Dark', 'Ice', \"['pressure']\", 'pickpocket', 70, 120, 65, 45, 85, 125, 510, 'Speed', 1.0, 2.0, 1.0, 1.0, 1.0, 4.0, 1.0, 1.0, 1.0, 2.0, 0.0, 0.5, 2.0, 0.5, 2.0, 1.0, 0.5, 2.0)\n",
      "(148, 'azelf', 'Psychic', '', \"['levitate']\", 'None', 75, 125, 70, 125, 70, 115, 580, 'Attack', 1.0, 1.0, 1.0, 1.0, 1.0, 0.5, 1.0, 1.0, 1.0, 1.0, 0.5, 1.0, 2.0, 2.0, 1.0, 1.0, 2.0, 1.0)\n",
      "(150, 'palkia', 'Water', 'Dragon', \"['pressure']\", 'telepathy', 90, 100, 100, 150, 120, 120, 680, 'Special Attack', 1.0, 0.25, 0.25, 1.0, 1.0, 1.0, 1.0, 1.0, 1.0, 1.0, 1.0, 1.0, 1.0, 1.0, 0.5, 2.0, 1.0, 2.0)\n"
     ]
    }
   ],
   "source": [
    "for row in rows:\n",
    "    print(row)"
   ]
  },
  {
   "cell_type": "code",
   "execution_count": 10,
   "id": "e58cf6a3",
   "metadata": {},
   "outputs": [],
   "source": [
    "connection.close()"
   ]
  }
 ],
 "metadata": {
  "kernelspec": {
   "display_name": "Python 3 (ipykernel)",
   "language": "python",
   "name": "python3"
  },
  "language_info": {
   "codemirror_mode": {
    "name": "ipython",
    "version": 3
   },
   "file_extension": ".py",
   "mimetype": "text/x-python",
   "name": "python",
   "nbconvert_exporter": "python",
   "pygments_lexer": "ipython3",
   "version": "3.9.15"
  }
 },
 "nbformat": 4,
 "nbformat_minor": 5
}
